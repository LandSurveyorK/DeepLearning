{
 "cells": [
  {
   "cell_type": "code",
   "execution_count": null,
   "metadata": {
    "collapsed": true
   },
   "outputs": [],
   "source": [
    "# CNN \n",
    "# atom open cnn.py\n",
    "# cp D:/textbook/DP/*.txt .\n",
    "\n",
    "import numpy as np\n",
    "import pandas as pd \n",
    "import sklearn\n",
    "import matplotlib.pyplot as plt \n"
   ]
  },
  {
   "cell_type": "markdown",
   "metadata": {},
   "source": [
    "#####  Implementation of the backpropagation algorithm for training your own neural network. \n",
    "The goal is to label images of 10 handwritten digits of “zero”, “one”,..., “nine”. The images are 28 by 28 in size (MNIST dataset), which we will be represented as a vector x of dimension 784 by listing all the pixel values in raster scan order. The labels t are 0,1,2,...,9 corresponding to 10 classes as written in the image. There are 3000 training cases,containing 300 examples of each of 10 classes, 1000 validation (100 examples of each of 10 classes), and 3000 test cases (300 examples of each of 10 classes). they can be found in the file digitstrain.txt, digitsvalid.txt and digitstest.txt:"
   ]
  },
  {
   "cell_type": "code",
   "execution_count": 248,
   "metadata": {
    "collapsed": true
   },
   "outputs": [],
   "source": [
    "\n",
    "def dataLoad(filename):\n",
    "    fr = open(filename, 'r')\n",
    "    dataMat =  []; labelMat = [];\n",
    "    for line in fr.readlines():\n",
    "        lineArr = line.strip().split(',')\n",
    "        Arr = []\n",
    "        for i in range(len(lineArr)-1):\n",
    "            Arr.append(float(lineArr[i]))\n",
    "        dataMat.append(Arr)\n",
    "        labelMat.append(float(lineArr[-1]))  \n",
    "    return np.array(dataMat), np.array(labelMat)\n"
   ]
  },
  {
   "cell_type": "code",
   "execution_count": 249,
   "metadata": {
    "collapsed": true
   },
   "outputs": [],
   "source": [
    "def vectorize(Y):\n",
    "    n = len(Y)\n",
    "    YY = np.zeros((10,n))\n",
    "    for j in range(n):\n",
    "        YY[int(Y[j])][j] = 1\n",
    "    return YY\n",
    "\n",
    "# vectorize(labelMat)\n",
    "\n",
    "dataMat, labelMat = dataLoad(\"digitstrain.txt\"); labelMat = vectorize(labelMat)\n",
    "dataValid, labelValid = dataLoad('digitsvalid.txt'); labelValid = vectorize(labelValid)\n",
    "dataTest, labelTest = dataLoad('digitstest.txt'); labelTest = vectorize(labelTest)\n"
   ]
  },
  {
   "cell_type": "markdown",
   "metadata": {},
   "source": [
    "##### Show the digits"
   ]
  },
  {
   "cell_type": "code",
   "execution_count": 106,
   "metadata": {},
   "outputs": [
    {
     "data": {
      "image/png": "[encoded data removed]",
      "text/plain": [
       "<matplotlib.figure.Figure at 0x57d058ee10>"
      ]
     },
     "metadata": {},
     "output_type": "display_data"
    }
   ],
   "source": [
    "from PIL import Image\n",
    "import matplotlib.pyplot as plt \n",
    "import seaborn as sns\n",
    "\n",
    "sns.set_style(\"dark\")\n",
    "\n",
    "def digitVis():\n",
    "    fig, axes = plt.subplots(2,5, figsize=(5,2))\n",
    "    for i in range(2):\n",
    "        for j in range(5):\n",
    "            X = dataMat[300*( 5*i+j )]\n",
    "            X = np.reshape(X,(28,28))\n",
    "            axes[i,j].imshow(X, cmap='gray_r', interpolation='nearest')\n",
    "            axes[i,j].set_xticks([])\n",
    "            axes[i,j].set_yticks([])\n",
    "    plt.show()\n",
    "\n",
    "digitVis()    \n"
   ]
  },
  {
   "cell_type": "markdown",
   "metadata": {},
   "source": [
    "###### Initialize W,b"
   ]
  },
  {
   "cell_type": "code",
   "execution_count": 271,
   "metadata": {},
   "outputs": [
    {
     "name": "stdout",
     "output_type": "stream",
     "text": [
      "2\n",
      "2\n"
     ]
    }
   ],
   "source": [
    "from numpy import *\n",
    "def init(H): # H number if nerons in each layer\n",
    "    b = []; W = [];\n",
    "    for i in range(len(H)-1):\n",
    "        b.append( np.zeros((H[i+1],1)))\n",
    "        u = np.sqrt(6) / np.sqrt(H[i]+H[i+1])\n",
    "        W.append( np.random.uniform(-u,u, (H[i+1],H[i])))\n",
    "    return b, W\n",
    "\n",
    "layer = [784, 100, 10 ]\n",
    "b, W = init(layer)\n",
    "print(size(b)); print(size(W))\n"
   ]
  },
  {
   "cell_type": "markdown",
   "metadata": {},
   "source": [
    "###### Show weighted matrix"
   ]
  },
  {
   "cell_type": "code",
   "execution_count": 232,
   "metadata": {
    "collapsed": true
   },
   "outputs": [],
   "source": [
    "def showWeight(W):\n",
    "    fig, axes = plt.subplots(10,10, figsize=(10,10))\n",
    "    for i in range(10):\n",
    "        for j in range(10): \n",
    "            axes[i,j].imshow(np.reshape(W[0][10*i+j], (28,28)), cmap='gray_r', interpolation='nearest')\n",
    "            axes[i,j].set_xticks([])\n",
    "            axes[i,j].set_yticks([])\n",
    "    plt.show()"
   ]
  },
  {
   "cell_type": "markdown",
   "metadata": {},
   "source": [
    "##### Sigmoid function "
   ]
  },
  {
   "cell_type": "code",
   "execution_count": 267,
   "metadata": {},
   "outputs": [
    {
     "data": {
      "text/plain": [
       "array([[ 0.73105858,  0.88079708],\n",
       "       [ 0.88079708,  0.95257413]])"
      ]
     },
     "execution_count": 267,
     "metadata": {},
     "output_type": "execute_result"
    }
   ],
   "source": [
    "import math \n",
    "\n",
    "def sigm(x):\n",
    "    xx = np.zeros((x.shape[0], x.shape[1]))\n",
    "    for i in range(x.shape[0]):\n",
    "        for j in range(x.shape[1]):\n",
    "            xx[i][j] = 1 / (1 + np.exp(-x[i][j]))\n",
    "    return xx\n",
    "sigm(np.array([[1,2],[2,3]]))\n"
   ]
  },
  {
   "cell_type": "markdown",
   "metadata": {},
   "source": [
    "##### Softmax function "
   ]
  },
  {
   "cell_type": "code",
   "execution_count": 160,
   "metadata": {
    "collapsed": true
   },
   "outputs": [],
   "source": [
    "def softmax(x):\n",
    "    n,m = x.shape;\n",
    "    f = np.zeros((n,m))\n",
    "    for j in range(m):\n",
    "        dom = np.sum(np.exp(x[:,j]))\n",
    "        for i in range(n):\n",
    "            f[i][j] = np.exp(x[i][j])/ dom\n",
    "    return f \n",
    " "
   ]
  },
  {
   "cell_type": "markdown",
   "metadata": {},
   "source": [
    "##### Backpropogation"
   ]
  },
  {
   "cell_type": "code",
   "execution_count": 16,
   "metadata": {
    "collapsed": true
   },
   "outputs": [],
   "source": [
    "\n",
    "def forward(X,W,b):\n",
    "    H = []; A = [];\n",
    "    H.append(X); batchSize = X.shape[1]\n",
    "    for i in range(size(W)):\n",
    "        A.append( np.dot(W[i],  H[i]) + b[i]* np.ones((1,batchSize)))\n",
    "\n",
    "        H.append(sigm(A[i]))\n",
    "    f = softmax(A[-1])\n",
    "    return H[:-1], A, f\n",
    "\n",
    "\n",
    "def backward(f, Y, W,b, H, A):\n",
    "    grad_A = []; grad_W =[]; grad_b = []; grad_H =[]\n",
    "    grad_A.append(- Y + f)\n",
    "    k = 0;  L = len(layer)-1 \n",
    "    while ( k < L):\n",
    "        grad_W.append(np.dot(grad_A[k] ,np.transpose(H[L-1-k])))\n",
    "        grad_b.append(grad_A[k])\n",
    "        grad_H.append(np.dot(np.transpose(W[L-1-k]) , grad_A[k]))\n",
    "        if k < (L - 1):\n",
    "            g = np.multiply( H[L-1-k], \n",
    "                      np.ones((H[L-1-k].shape[0],H[L-1-k].shape[1]))\n",
    "                      - H[L-1-k])\n",
    "            grad_A.append(np.multiply(grad_H,g))\n",
    "                                     \n",
    "            k = k + 1 \n",
    "    return grad_W, grad_b\n",
    "\n"
   ]
  },
  {
   "cell_type": "markdown",
   "metadata": {},
   "source": [
    "##### CNN"
   ]
  },
  {
   "cell_type": "code",
   "execution_count": 2,
   "metadata": {},
   "outputs": [
    {
     "ename": "NameError",
     "evalue": "name 'dataMat' is not defined",
     "output_type": "error",
     "traceback": [
      "\u001b[1;31m---------------------------------------------------------------------------\u001b[0m",
      "\u001b[1;31mNameError\u001b[0m                                 Traceback (most recent call last)",
      "\u001b[1;32m<ipython-input-2-5ee4215f1f65>\u001b[0m in \u001b[0;36m<module>\u001b[1;34m()\u001b[0m\n\u001b[0;32m     25\u001b[0m \u001b[0mepoch\u001b[0m \u001b[1;33m=\u001b[0m \u001b[1;36m1\u001b[0m\u001b[1;33m\u001b[0m\u001b[0m\n\u001b[0;32m     26\u001b[0m \u001b[0mrate\u001b[0m \u001b[1;33m=\u001b[0m \u001b[1;36m0.1\u001b[0m\u001b[1;33m\u001b[0m\u001b[0m\n\u001b[1;32m---> 27\u001b[1;33m \u001b[0mCNN\u001b[0m\u001b[1;33m(\u001b[0m\u001b[0mlayer\u001b[0m\u001b[1;33m,\u001b[0m\u001b[0mepoch\u001b[0m\u001b[1;33m,\u001b[0m\u001b[0mdataMat\u001b[0m\u001b[1;33m,\u001b[0m \u001b[0mlabelMat\u001b[0m\u001b[1;33m,\u001b[0m \u001b[0mrate\u001b[0m\u001b[1;33m)\u001b[0m\u001b[1;33m\u001b[0m\u001b[0m\n\u001b[0m\u001b[0;32m     28\u001b[0m \u001b[1;33m\u001b[0m\u001b[0m\n\u001b[0;32m     29\u001b[0m \u001b[1;33m\u001b[0m\u001b[0m\n",
      "\u001b[1;31mNameError\u001b[0m: name 'dataMat' is not defined"
     ]
    }
   ],
   "source": [
    "\n",
    "\n",
    "def CNN(layer, epoch,dataMat, labelMat, rate = 0.1):\n",
    "    b, W = init(layer)\n",
    "    batchsize = 30;num_batch = 100;\n",
    "    crossEntropyErr = []\n",
    "    for i in range(epoch):\n",
    "        for j in range(num_batch):\n",
    "            X_batch = np.transpose(dataMat[j*30:(j+1)*30,:])\n",
    "            Y_batch = labelMat[: ,j*30: (j+1)*30]\n",
    "            H, A, f_batch = forward(X_batch, W, b)\n",
    "            grad_W,grad_b = backward(f_batch, Y_batch, W,b, H,A)\n",
    "            print(grad_W[0].shape, grad_W[1].shape)\n",
    "            L = len(layer) - 1\n",
    "            for k in range(len(W)):\n",
    "                W[k] = W[k] - rate * grad_W[L-1-k]\n",
    "                b[k] = b[k] - rate* grad_b[L-1-k]\n",
    "            print(\"..........\")\n",
    "        H, A, f = forward(np.transpose(dataMat),labelMat, W,b)\n",
    "    \n",
    "        crosEntropyErr.append(np.sum(- np.log(np.multiply(f, labelMat))))\n",
    "    return crossEntropyErr\n",
    " \n",
    "layer = [784,100,10]\n",
    "epoch = 1\n",
    "rate = 0.1\n",
    "CNN(layer,epoch,dataMat, labelMat, rate)\n",
    "        \n",
    "        \n",
    "                                          \n",
    "            \n",
    "            \n",
    "    "
   ]
  },
  {
   "cell_type": "code",
   "execution_count": null,
   "metadata": {
    "collapsed": true
   },
   "outputs": [],
   "source": []
  }
 ],
 "metadata": {
  "kernelspec": {
   "display_name": "Python 3",
   "language": "python",
   "name": "python3"
  },
  "language_info": {
   "codemirror_mode": {
    "name": "ipython",
    "version": 3
   },
   "file_extension": ".py",
   "mimetype": "text/x-python",
   "name": "python",
   "nbconvert_exporter": "python",
   "pygments_lexer": "ipython3",
   "version": "3.6.1"
  }
 },
 "nbformat": 4,
 "nbformat_minor": 2
}
